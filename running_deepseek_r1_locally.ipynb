{
 "cells": [
  {
   "cell_type": "markdown",
   "metadata": {},
   "source": [
    "# Running DeepSeek R1 locally"
   ]
  },
  {
   "cell_type": "code",
   "execution_count": 9,
   "metadata": {},
   "outputs": [
    {
     "name": "stderr",
     "output_type": "stream",
     "text": [
      "c:\\Users\\angel\\Documents\\projects\\ai_stuff\\local_ai_agents\\my_little_local_agents\\.venv\\Lib\\site-packages\\tqdm\\auto.py:21: TqdmWarning: IProgress not found. Please update jupyter and ipywidgets. See https://ipywidgets.readthedocs.io/en/stable/user_install.html\n",
      "  from .autonotebook import tqdm as notebook_tqdm\n"
     ]
    }
   ],
   "source": [
    "import torch\n",
    "from transformers import AutoModelForCausalLM, AutoTokenizer"
   ]
  },
  {
   "cell_type": "code",
   "execution_count": 19,
   "metadata": {},
   "outputs": [
    {
     "name": "stdout",
     "output_type": "stream",
     "text": [
      "✅ LM Studio is running!\n",
      "Available models: {'data': [{'id': 'deepseek-r1-distill-qwen-14b', 'object': 'model', 'owned_by': 'organization_owner'}, {'id': 'text-embedding-nomic-embed-text-v1.5', 'object': 'model', 'owned_by': 'organization_owner'}, {'id': 'deepseek-r1-distill-llama-8b', 'object': 'model', 'owned_by': 'organization_owner'}, {'id': 'deepseek-r1-distill-qwen-7b', 'object': 'model', 'owned_by': 'organization_owner'}], 'object': 'list'}\n"
     ]
    }
   ],
   "source": [
    "#@title Connecting to LM Studio\n",
    "import requests\n",
    "\n",
    "# Define LM Studio endpoint\n",
    "LM_STUDIO_URL = \"http://127.0.0.1:1234\"\n",
    "\n",
    "# Test that LM Studio is working\n",
    "try:\n",
    "    response = requests.get(f\"{LM_STUDIO_URL}/v1/models\")\n",
    "    if response.status_code == 200:\n",
    "        print(\"✅ LM Studio is running!\")\n",
    "        print(\"Available models:\", response.json())\n",
    "    else:\n",
    "        print(\"⚠️ Unable to reach LM Studio. Make sure it's running.\")\n",
    "except requests.exceptions.ConnectionError:\n",
    "    print(\"❌ LM Studio is not running. Start it and try again.\")"
   ]
  },
  {
   "cell_type": "code",
   "execution_count": 28,
   "metadata": {},
   "outputs": [
    {
     "name": "stdout",
     "output_type": "stream",
     "text": [
      "🤖 LM Studio: <think>\n",
      "Okay, so I need to figure out what the best fruit is and choose one. Hmm, where do I even start? There are so many fruits out there—apples, bananas, oranges, berries, melons, citrus fruits, tropical ones like mangoes and pineapples... It's a bit overwhelming.\n",
      "\n",
      "First, maybe I should think about what makes a fruit \"good.\" Is it taste, nutrition, availability, versatility in recipes, or perhaps something else? Each of these factors could influence someone's choice. For example, if we're talking about taste alone, some people might say strawberries are the best because they're sweet and juicy. But others might argue that bananas are the best because they're creamy and easy to eat.\n",
      "\n",
      "Nutritionally speaking, blueberries are often praised for their antioxidants, which are good for health. Avocados are high in healthy fats and nutrients too. Oranges are packed with vitamin C. Then there's the consideration of where fruits come from—some might prefer locally grown fruits because they're fresher and have a lower carbon footprint, while others might love exotic fruits like mangoes or papayas.\n",
      "\n",
      "Availability is another factor. Bananas and apples are pretty much available everywhere year-round, which makes them convenient. On the other hand, some fruits like pineapples or figs are seasonal or harder to find in certain regions. Taste preferences can vary a lot too—what's sweet and delicious to one person might be too sour or bitter to another.\n",
      "\n",
      "Cultural factors could also play a role. In some cultures, certain fruits hold more significance or are more commonly used in traditional dishes. For example, mangoes are a big deal in Indian cuisine, while citrus fruits like oranges and lemons are widely used in Mediterranean diets.\n",
      "\n",
      "I should also consider the health benefits. Berries are known for their antioxidants, which can help with things like heart health and reducing inflammation. Citrus fruits are high in vitamin C, which boosts the immune system. Bananas are good for potassium and energy. Then there's the matter of fiber content—fruits vary in how much fiber they offer, which is good for digestion.\n",
      "\n",
      "Versatility in cooking might be another point. Some fruits can be eaten raw, others are better cooked or used in recipes. For instance, apples can be eaten raw or baked into pies, while bananas are great in smoothies and baking. Pineapple is often used in both sweet and savory dishes, which adds to its versatility.\n",
      "\n",
      "I wonder if there's a fruit that stands out in multiple categories. Maybe blueberries because they're not only tasty but also very nutritious with those antioxidants. Or perhaps the apple for its availability and versatility. But then again, I've heard people argue that bananas are the best because they're so accessible and provide a quick energy boost.\n",
      "\n",
      "Wait, maybe I should look into scientific studies or expert opinions. I know that in terms of nutrient density, some fruits rank higher than others. Blueberries often top lists for their antioxidants, but other berries like strawberries and raspberries also have high scores. Avocados are unique because they're high in healthy fats, which is something you don't get as much from other fruits.\n",
      "\n",
      "On the flip side, bananas might be considered one of the best fruits because they're so widely available, easy to eat on the go, and provide a good source of natural sugars for energy. They’re also affordable and can be used in various recipes, like banana bread or smoothies.\n",
      "\n",
      "I'm starting to think that there isn't a single \"best\" fruit because it really depends on what you're looking for. But if I had to choose one based on a combination of taste, nutrition, and versatility, maybe blueberries would be the top choice. They’re packed with nutrients, have a great flavor, and can be used in both sweet and savory dishes.\n",
      "\n",
      "Wait, but some might argue that apples are more versatile since they can be eaten raw, baked into pies, made into cider, or even used in savory dishes like in stuffing. Plus, apples are a good source of fiber and other vitamins. So maybe apples have an edge there.\n",
      "\n",
      "Or perhaps I should consider the tropical fruits. Mangoes are often called the \"king of fruits\" because of their rich flavor and texture. They’re also high in vitamin A and C. Pineapples are another tropical fruit that's unique because of its sweet and tangy taste, plus it contains bromelain, which has health benefits.\n",
      "\n",
      "Another angle is culinary tradition. In many cuisines, certain fruits are foundational. For example, citrus fruits are essential in Mediterranean cooking for their juice and zest. Grapes are important in winemaking, but maybe that's more of a stretch since we're talking about eating them fresh or as fruit, not fermented.\n",
      "\n",
      "I guess I should also think about personal preference. If someone loves the tartness of lemons or limes, they might say those are the best for adding zing to drinks and dishes. But if they prefer something sweet, maybe it's a berry or a tropical fruit.\n",
      "\n",
      "In conclusion, after considering taste, nutrition, availability, versatility, cultural significance, and personal preference, I think the \"best\" fruit is subjective. However, if I had to pick one that offers a great balance of flavor, health benefits, and culinary uses, blueberries might be it due to their high antioxidant content and wide use in both sweet and savory dishes.\n",
      "</think>\n",
      "\n",
      "The concept of the \"best\" fruit is highly subjective, as it depends on various factors such as taste, nutrition, availability, cultural significance, and personal preference. After considering these aspects, blueberries emerge as a top choice due to their exceptional nutrient profile, rich flavor, and versatility in both sweet and savory dishes. However, other fruits like apples, bananas, mangoes, and citrus varieties also have strong claims based on different criteria. Ultimately, the best fruit is one that aligns with individual preferences and needs.\n"
     ]
    }
   ],
   "source": [
    "#title Testing out a prompt\n",
    "prompt = \"What is the the best fruit? Choose one.\"\n",
    "\n",
    "llm_model = \"deepseek-r1-distill-qwen-14b\"\n",
    "max_tokens = 4096\n",
    "temperature = 0.7\n",
    "# Define the request payload for LM Studio\n",
    "payload = {\n",
    "    \"model\": llm_model,\n",
    "    \"promt\": prompt,\n",
    "    \"messages\": [\n",
    "        {\"role\": \"user\", \"content\": prompt}\n",
    "        ],\n",
    "    \"max_tokens\": max_tokens,\n",
    "    \"temperature\": temperature\n",
    "}\n",
    "\n",
    "# Send the request to LM Studio\n",
    "response = requests.post(f\"{LM_STUDIO_URL}/v1/chat/completions\", json=payload)\n",
    "\n",
    "# Parse and print the response\n",
    "\n",
    "if response.status_code == 200:\n",
    "    result = response.json()\n",
    "    print(\"🤖 LM Studio:\", result[\"choices\"][0][\"message\"][\"content\"])  # Fixed key\n",
    "else:\n",
    "    print(\"❌ Something went wrong:\", response.text)"
   ]
  }
 ],
 "metadata": {
  "kernelspec": {
   "display_name": ".venv",
   "language": "python",
   "name": "python3"
  },
  "language_info": {
   "codemirror_mode": {
    "name": "ipython",
    "version": 3
   },
   "file_extension": ".py",
   "mimetype": "text/x-python",
   "name": "python",
   "nbconvert_exporter": "python",
   "pygments_lexer": "ipython3",
   "version": "3.12.4"
  }
 },
 "nbformat": 4,
 "nbformat_minor": 2
}
