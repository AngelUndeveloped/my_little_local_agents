{
 "cells": [
  {
   "cell_type": "markdown",
   "metadata": {},
   "source": [
    "# Smolagents by huggingface"
   ]
  },
  {
   "cell_type": "markdown",
   "metadata": {},
   "source": [
    "I'll follow the github readme first and then maybe make an email agent or something.\n",
    "https://github.com/huggingface/smolagents"
   ]
  },
  {
   "cell_type": "code",
   "execution_count": 1,
   "metadata": {},
   "outputs": [
    {
     "name": "stdout",
     "output_type": "stream",
     "text": [
      "Collecting smolagents\n",
      "  Downloading smolagents-1.7.0-py3-none-any.whl.metadata (10.0 kB)\n",
      "Requirement already satisfied: huggingface-hub>=0.28.0 in c:\\users\\angel\\documents\\projects\\ai_stuff\\local_ai_agents\\my_little_local_agents\\.venv\\lib\\site-packages (from smolagents) (0.28.1)\n",
      "Requirement already satisfied: requests>=2.32.3 in c:\\users\\angel\\documents\\projects\\ai_stuff\\local_ai_agents\\my_little_local_agents\\.venv\\lib\\site-packages (from smolagents) (2.32.3)\n",
      "Collecting rich>=13.9.4 (from smolagents)\n",
      "  Using cached rich-13.9.4-py3-none-any.whl.metadata (18 kB)\n",
      "Collecting pandas>=2.2.3 (from smolagents)\n",
      "  Using cached pandas-2.2.3-cp312-cp312-win_amd64.whl.metadata (19 kB)\n",
      "Requirement already satisfied: jinja2>=3.1.4 in c:\\users\\angel\\documents\\projects\\ai_stuff\\local_ai_agents\\my_little_local_agents\\.venv\\lib\\site-packages (from smolagents) (3.1.5)\n",
      "Collecting pillow>=11.0.0 (from smolagents)\n",
      "  Using cached pillow-11.1.0-cp312-cp312-win_amd64.whl.metadata (9.3 kB)\n",
      "Collecting markdownify>=0.14.1 (from smolagents)\n",
      "  Downloading markdownify-0.14.1-py3-none-any.whl.metadata (8.5 kB)\n",
      "Collecting duckduckgo-search>=6.3.7 (from smolagents)\n",
      "  Downloading duckduckgo_search-7.3.0-py3-none-any.whl.metadata (17 kB)\n",
      "Collecting python-dotenv (from smolagents)\n",
      "  Using cached python_dotenv-1.0.1-py3-none-any.whl.metadata (23 kB)\n",
      "Collecting click>=8.1.8 (from duckduckgo-search>=6.3.7->smolagents)\n",
      "  Using cached click-8.1.8-py3-none-any.whl.metadata (2.3 kB)\n",
      "Collecting primp>=0.11.0 (from duckduckgo-search>=6.3.7->smolagents)\n",
      "  Downloading primp-0.11.0-cp38-abi3-win_amd64.whl.metadata (12 kB)\n",
      "Collecting lxml>=5.3.0 (from duckduckgo-search>=6.3.7->smolagents)\n",
      "  Using cached lxml-5.3.0-cp312-cp312-win_amd64.whl.metadata (3.9 kB)\n",
      "Requirement already satisfied: filelock in c:\\users\\angel\\documents\\projects\\ai_stuff\\local_ai_agents\\my_little_local_agents\\.venv\\lib\\site-packages (from huggingface-hub>=0.28.0->smolagents) (3.17.0)\n",
      "Requirement already satisfied: fsspec>=2023.5.0 in c:\\users\\angel\\documents\\projects\\ai_stuff\\local_ai_agents\\my_little_local_agents\\.venv\\lib\\site-packages (from huggingface-hub>=0.28.0->smolagents) (2025.2.0)\n",
      "Requirement already satisfied: packaging>=20.9 in c:\\users\\angel\\documents\\projects\\ai_stuff\\local_ai_agents\\my_little_local_agents\\.venv\\lib\\site-packages (from huggingface-hub>=0.28.0->smolagents) (24.2)\n",
      "Requirement already satisfied: pyyaml>=5.1 in c:\\users\\angel\\documents\\projects\\ai_stuff\\local_ai_agents\\my_little_local_agents\\.venv\\lib\\site-packages (from huggingface-hub>=0.28.0->smolagents) (6.0.2)\n",
      "Requirement already satisfied: tqdm>=4.42.1 in c:\\users\\angel\\documents\\projects\\ai_stuff\\local_ai_agents\\my_little_local_agents\\.venv\\lib\\site-packages (from huggingface-hub>=0.28.0->smolagents) (4.67.1)\n",
      "Requirement already satisfied: typing-extensions>=3.7.4.3 in c:\\users\\angel\\documents\\projects\\ai_stuff\\local_ai_agents\\my_little_local_agents\\.venv\\lib\\site-packages (from huggingface-hub>=0.28.0->smolagents) (4.12.2)\n",
      "Requirement already satisfied: MarkupSafe>=2.0 in c:\\users\\angel\\documents\\projects\\ai_stuff\\local_ai_agents\\my_little_local_agents\\.venv\\lib\\site-packages (from jinja2>=3.1.4->smolagents) (3.0.2)\n",
      "Collecting beautifulsoup4<5,>=4.9 (from markdownify>=0.14.1->smolagents)\n",
      "  Downloading beautifulsoup4-4.13.3-py3-none-any.whl.metadata (3.8 kB)\n",
      "Requirement already satisfied: six<2,>=1.15 in c:\\users\\angel\\documents\\projects\\ai_stuff\\local_ai_agents\\my_little_local_agents\\.venv\\lib\\site-packages (from markdownify>=0.14.1->smolagents) (1.17.0)\n",
      "Requirement already satisfied: numpy>=1.26.0 in c:\\users\\angel\\documents\\projects\\ai_stuff\\local_ai_agents\\my_little_local_agents\\.venv\\lib\\site-packages (from pandas>=2.2.3->smolagents) (2.2.2)\n",
      "Requirement already satisfied: python-dateutil>=2.8.2 in c:\\users\\angel\\documents\\projects\\ai_stuff\\local_ai_agents\\my_little_local_agents\\.venv\\lib\\site-packages (from pandas>=2.2.3->smolagents) (2.9.0.post0)\n",
      "Collecting pytz>=2020.1 (from pandas>=2.2.3->smolagents)\n",
      "  Downloading pytz-2025.1-py2.py3-none-any.whl.metadata (22 kB)\n",
      "Collecting tzdata>=2022.7 (from pandas>=2.2.3->smolagents)\n",
      "  Using cached tzdata-2025.1-py2.py3-none-any.whl.metadata (1.4 kB)\n",
      "Requirement already satisfied: charset-normalizer<4,>=2 in c:\\users\\angel\\documents\\projects\\ai_stuff\\local_ai_agents\\my_little_local_agents\\.venv\\lib\\site-packages (from requests>=2.32.3->smolagents) (3.4.1)\n",
      "Requirement already satisfied: idna<4,>=2.5 in c:\\users\\angel\\documents\\projects\\ai_stuff\\local_ai_agents\\my_little_local_agents\\.venv\\lib\\site-packages (from requests>=2.32.3->smolagents) (3.10)\n",
      "Requirement already satisfied: urllib3<3,>=1.21.1 in c:\\users\\angel\\documents\\projects\\ai_stuff\\local_ai_agents\\my_little_local_agents\\.venv\\lib\\site-packages (from requests>=2.32.3->smolagents) (2.3.0)\n",
      "Requirement already satisfied: certifi>=2017.4.17 in c:\\users\\angel\\documents\\projects\\ai_stuff\\local_ai_agents\\my_little_local_agents\\.venv\\lib\\site-packages (from requests>=2.32.3->smolagents) (2025.1.31)\n",
      "Collecting markdown-it-py>=2.2.0 (from rich>=13.9.4->smolagents)\n",
      "  Using cached markdown_it_py-3.0.0-py3-none-any.whl.metadata (6.9 kB)\n",
      "Requirement already satisfied: pygments<3.0.0,>=2.13.0 in c:\\users\\angel\\documents\\projects\\ai_stuff\\local_ai_agents\\my_little_local_agents\\.venv\\lib\\site-packages (from rich>=13.9.4->smolagents) (2.19.1)\n",
      "Collecting soupsieve>1.2 (from beautifulsoup4<5,>=4.9->markdownify>=0.14.1->smolagents)\n",
      "  Using cached soupsieve-2.6-py3-none-any.whl.metadata (4.6 kB)\n",
      "Requirement already satisfied: colorama in c:\\users\\angel\\documents\\projects\\ai_stuff\\local_ai_agents\\my_little_local_agents\\.venv\\lib\\site-packages (from click>=8.1.8->duckduckgo-search>=6.3.7->smolagents) (0.4.6)\n",
      "Collecting mdurl~=0.1 (from markdown-it-py>=2.2.0->rich>=13.9.4->smolagents)\n",
      "  Using cached mdurl-0.1.2-py3-none-any.whl.metadata (1.6 kB)\n",
      "Downloading smolagents-1.7.0-py3-none-any.whl (90 kB)\n",
      "Downloading duckduckgo_search-7.3.0-py3-none-any.whl (19 kB)\n",
      "Downloading markdownify-0.14.1-py3-none-any.whl (11 kB)\n",
      "Using cached pandas-2.2.3-cp312-cp312-win_amd64.whl (11.5 MB)\n",
      "Using cached pillow-11.1.0-cp312-cp312-win_amd64.whl (2.6 MB)\n",
      "Using cached rich-13.9.4-py3-none-any.whl (242 kB)\n",
      "Using cached python_dotenv-1.0.1-py3-none-any.whl (19 kB)\n",
      "Downloading beautifulsoup4-4.13.3-py3-none-any.whl (186 kB)\n",
      "Using cached click-8.1.8-py3-none-any.whl (98 kB)\n",
      "Using cached lxml-5.3.0-cp312-cp312-win_amd64.whl (3.8 MB)\n",
      "Using cached markdown_it_py-3.0.0-py3-none-any.whl (87 kB)\n",
      "Downloading primp-0.11.0-cp38-abi3-win_amd64.whl (3.1 MB)\n",
      "   ---------------------------------------- 0.0/3.1 MB ? eta -:--:--\n",
      "   ------------------------------ --------- 2.4/3.1 MB 13.4 MB/s eta 0:00:01\n",
      "   ---------------------------------------- 3.1/3.1 MB 13.1 MB/s eta 0:00:00\n",
      "Downloading pytz-2025.1-py2.py3-none-any.whl (507 kB)\n",
      "Using cached tzdata-2025.1-py2.py3-none-any.whl (346 kB)\n",
      "Using cached mdurl-0.1.2-py3-none-any.whl (10.0 kB)\n",
      "Using cached soupsieve-2.6-py3-none-any.whl (36 kB)\n",
      "Installing collected packages: pytz, tzdata, soupsieve, python-dotenv, primp, pillow, mdurl, lxml, click, pandas, markdown-it-py, duckduckgo-search, beautifulsoup4, rich, markdownify, smolagents\n",
      "Successfully installed beautifulsoup4-4.13.3 click-8.1.8 duckduckgo-search-7.3.0 lxml-5.3.0 markdown-it-py-3.0.0 markdownify-0.14.1 mdurl-0.1.2 pandas-2.2.3 pillow-11.1.0 primp-0.11.0 python-dotenv-1.0.1 pytz-2025.1 rich-13.9.4 smolagents-1.7.0 soupsieve-2.6 tzdata-2025.1\n",
      "Note: you may need to restart the kernel to use updated packages.\n"
     ]
    },
    {
     "name": "stderr",
     "output_type": "stream",
     "text": [
      "Could not find platform independent libraries <prefix>\n"
     ]
    }
   ],
   "source": [
    "# Install smolagents if needed\n",
    "%pip install smolagents"
   ]
  },
  {
   "cell_type": "code",
   "execution_count": 2,
   "metadata": {},
   "outputs": [
    {
     "data": {
      "text/html": [
       "<pre style=\"white-space:pre;overflow-x:auto;line-height:normal;font-family:Menlo,'DejaVu Sans Mono',consolas,'Courier New',monospace\"><span style=\"color: #d4b702; text-decoration-color: #d4b702\">╭──────────────────────────────────────────────────── </span><span style=\"color: #d4b702; text-decoration-color: #d4b702; font-weight: bold\">New run</span><span style=\"color: #d4b702; text-decoration-color: #d4b702\"> ────────────────────────────────────────────────────╮</span>\n",
       "<span style=\"color: #d4b702; text-decoration-color: #d4b702\">│</span>                                                                                                                 <span style=\"color: #d4b702; text-decoration-color: #d4b702\">│</span>\n",
       "<span style=\"color: #d4b702; text-decoration-color: #d4b702\">│</span> <span style=\"font-weight: bold\">What is the capital of Guerrero in Mexico?</span>                                                                      <span style=\"color: #d4b702; text-decoration-color: #d4b702\">│</span>\n",
       "<span style=\"color: #d4b702; text-decoration-color: #d4b702\">│</span>                                                                                                                 <span style=\"color: #d4b702; text-decoration-color: #d4b702\">│</span>\n",
       "<span style=\"color: #d4b702; text-decoration-color: #d4b702\">╰─ HfApiModel - Qwen/Qwen2.5-Coder-32B-Instruct ──────────────────────────────────────────────────────────────────╯</span>\n",
       "</pre>\n"
      ],
      "text/plain": [
       "\u001b[38;2;212;183;2m╭─\u001b[0m\u001b[38;2;212;183;2m───────────────────────────────────────────────────\u001b[0m\u001b[38;2;212;183;2m \u001b[0m\u001b[1;38;2;212;183;2mNew run\u001b[0m\u001b[38;2;212;183;2m \u001b[0m\u001b[38;2;212;183;2m───────────────────────────────────────────────────\u001b[0m\u001b[38;2;212;183;2m─╮\u001b[0m\n",
       "\u001b[38;2;212;183;2m│\u001b[0m                                                                                                                 \u001b[38;2;212;183;2m│\u001b[0m\n",
       "\u001b[38;2;212;183;2m│\u001b[0m \u001b[1mWhat is the capital of Guerrero in Mexico?\u001b[0m                                                                      \u001b[38;2;212;183;2m│\u001b[0m\n",
       "\u001b[38;2;212;183;2m│\u001b[0m                                                                                                                 \u001b[38;2;212;183;2m│\u001b[0m\n",
       "\u001b[38;2;212;183;2m╰─\u001b[0m\u001b[38;2;212;183;2m HfApiModel - Qwen/Qwen2.5-Coder-32B-Instruct \u001b[0m\u001b[38;2;212;183;2m─────────────────────────────────────────────────────────────────\u001b[0m\u001b[38;2;212;183;2m─╯\u001b[0m\n"
      ]
     },
     "metadata": {},
     "output_type": "display_data"
    },
    {
     "data": {
      "text/html": [
       "<pre style=\"white-space:pre;overflow-x:auto;line-height:normal;font-family:Menlo,'DejaVu Sans Mono',consolas,'Courier New',monospace\"><span style=\"color: #d4b702; text-decoration-color: #d4b702\">━━━━━━━━━━━━━━━━━━━━━━━━━━━━━━━━━━━━━━━━━━━━━━━━━━━━━ </span><span style=\"font-weight: bold\">Step </span><span style=\"color: #008080; text-decoration-color: #008080; font-weight: bold\">1</span><span style=\"color: #d4b702; text-decoration-color: #d4b702\"> ━━━━━━━━━━━━━━━━━━━━━━━━━━━━━━━━━━━━━━━━━━━━━━━━━━━━━━</span>\n",
       "</pre>\n"
      ],
      "text/plain": [
       "\u001b[38;2;212;183;2m━━━━━━━━━━━━━━━━━━━━━━━━━━━━━━━━━━━━━━━━━━━━━━━━━━━━━ \u001b[0m\u001b[1mStep \u001b[0m\u001b[1;36m1\u001b[0m\u001b[38;2;212;183;2m ━━━━━━━━━━━━━━━━━━━━━━━━━━━━━━━━━━━━━━━━━━━━━━━━━━━━━━\u001b[0m\n"
      ]
     },
     "metadata": {},
     "output_type": "display_data"
    },
    {
     "data": {
      "text/html": [
       "<pre style=\"white-space:pre;overflow-x:auto;line-height:normal;font-family:Menlo,'DejaVu Sans Mono',consolas,'Courier New',monospace\"> ─ <span style=\"font-weight: bold\">Executing parsed code:</span> ──────────────────────────────────────────────────────────────────────────────────────── \n",
       "  <span style=\"color: #f8f8f2; text-decoration-color: #f8f8f2; background-color: #272822\">capital_of_guerrero </span><span style=\"color: #ff4689; text-decoration-color: #ff4689; background-color: #272822\">=</span><span style=\"color: #f8f8f2; text-decoration-color: #f8f8f2; background-color: #272822\"> web_search(query</span><span style=\"color: #ff4689; text-decoration-color: #ff4689; background-color: #272822\">=</span><span style=\"color: #e6db74; text-decoration-color: #e6db74; background-color: #272822\">\"capital of Guerrero in Mexico\"</span><span style=\"color: #f8f8f2; text-decoration-color: #f8f8f2; background-color: #272822\">)</span><span style=\"background-color: #272822\">                                        </span>  \n",
       "  <span style=\"color: #f8f8f2; text-decoration-color: #f8f8f2; background-color: #272822\">print(capital_of_guerrero)</span><span style=\"background-color: #272822\">                                                                                     </span>  \n",
       " ───────────────────────────────────────────────────────────────────────────────────────────────────────────────── \n",
       "</pre>\n"
      ],
      "text/plain": [
       " ─ \u001b[1mExecuting parsed code:\u001b[0m ──────────────────────────────────────────────────────────────────────────────────────── \n",
       "  \u001b[38;2;248;248;242;48;2;39;40;34mcapital_of_guerrero\u001b[0m\u001b[38;2;248;248;242;48;2;39;40;34m \u001b[0m\u001b[38;2;255;70;137;48;2;39;40;34m=\u001b[0m\u001b[38;2;248;248;242;48;2;39;40;34m \u001b[0m\u001b[38;2;248;248;242;48;2;39;40;34mweb_search\u001b[0m\u001b[38;2;248;248;242;48;2;39;40;34m(\u001b[0m\u001b[38;2;248;248;242;48;2;39;40;34mquery\u001b[0m\u001b[38;2;255;70;137;48;2;39;40;34m=\u001b[0m\u001b[38;2;230;219;116;48;2;39;40;34m\"\u001b[0m\u001b[38;2;230;219;116;48;2;39;40;34mcapital of Guerrero in Mexico\u001b[0m\u001b[38;2;230;219;116;48;2;39;40;34m\"\u001b[0m\u001b[38;2;248;248;242;48;2;39;40;34m)\u001b[0m\u001b[48;2;39;40;34m                                        \u001b[0m  \n",
       "  \u001b[38;2;248;248;242;48;2;39;40;34mprint\u001b[0m\u001b[38;2;248;248;242;48;2;39;40;34m(\u001b[0m\u001b[38;2;248;248;242;48;2;39;40;34mcapital_of_guerrero\u001b[0m\u001b[38;2;248;248;242;48;2;39;40;34m)\u001b[0m\u001b[48;2;39;40;34m                                                                                     \u001b[0m  \n",
       " ───────────────────────────────────────────────────────────────────────────────────────────────────────────────── \n"
      ]
     },
     "metadata": {},
     "output_type": "display_data"
    },
    {
     "data": {
      "text/html": [
       "<pre style=\"white-space:pre;overflow-x:auto;line-height:normal;font-family:Menlo,'DejaVu Sans Mono',consolas,'Courier New',monospace\"><span style=\"font-weight: bold\">Execution logs:</span>\n",
       "## Search Results\n",
       "\n",
       "[Guerrero - Wikipedia](https://en.wikipedia.org/wiki/Guerrero)\n",
       "Guerrero, [a] officially the Free and Sovereign State of Guerrero, [b] is one of the 32 states that compose the 32 \n",
       "Federal Entities of Mexico.It is divided into 81 municipalities.The state has a population of about 3.5 million \n",
       "people. It is located in southwest Mexico and is bordered by the states of Michoacán to the north and west, the \n",
       "State of Mexico and Morelos to the north, Puebla to the ...\n",
       "\n",
       "[Chilpancingo - Wikipedia](https://en.wikipedia.org/wiki/Chilpancingo)\n",
       "Chilpancingo de los Bravo (commonly shortened to Chilpancingo; Spanish pronunciation: [tʃilpanˈsiŋɡo] ⓘ; Nahuatl: \n",
       "Chilpantzinco (pronounced [t͡ʃiɬpanˈt͡siŋko])) is the capital and second-largest city of the Mexican state of \n",
       "Guerrero.In 2010 it had a population of 187,251 people. The municipality has an area of 2,338.4 km 2 (902.9 sq mi) \n",
       "in the south-central part of the state ...\n",
       "\n",
       "[Guerrero | Pacific Coast, Acapulco, Mountains | Britannica](https://www.britannica.com/place/Guerrero)\n",
       "Guerrero, estado (state), southwestern Mexico. It is bounded by the Pacific Ocean to the south and west and by the \n",
       "states of Michoacán to the northwest, México and Morelos to the north, Puebla to the northeast, and Oaxaca to the \n",
       "east. Chilpancingo (Chilpancingo de los Bravo) is the capital city.\n",
       "\n",
       "[Chilpancingo | Population, Meaning, History, &amp; Map | Britannica](https://www.britannica.com/place/Chilpancingo)\n",
       "Chilpancingo, city, capital of Guerrero estado (state), south-central Mexico.Chilpancingo lies in the Sierra Madre \n",
       "del Sur along the Huacapa River, which descends through the inland flanks of the mountains. In pre-Columbian times,\n",
       "the Olmec left remarkable cave paintings in the nearby Juxtlahuaca caverns, which include an extensive tunnel \n",
       "network and a subterranean lake.\n",
       "\n",
       "[30 Facts About Chilpancingo](https://facts.net/world/cities/30-facts-about-chilpancingo/)\n",
       "Political and Administrative Changes. Chilpancingo has seen several shifts in its political and administrative \n",
       "status over the years.. Provisional Capital: In 1853, Chilpancingo was declared the provisional capital of Guerrero\n",
       "due to an epidemic in Tixtla, and regional ecclesiastical organizational changes were made at the same time.. \n",
       "Capital Designation: In 1870, Governor Francisco O. Arce ...\n",
       "\n",
       "[Guerrero - Visiting Mexico](https://visitingmexico.com/guerrero/)\n",
       "Guerrero's capital is Chilpancingo de Los Bravo; however, its largest city is Acapulco. Admitted as a state in \n",
       "1849, Guerrero was named for one of the leaders of the Mexican War of Independence, Vicente Guerrero who also \n",
       "became Mexico's second president.\n",
       "\n",
       "[Guerrero Mexico Map | Mapa de Guerrero - Maps of World](https://www.mapsofworld.com/mexico/states/guerrero.html)\n",
       "Guerrero Mexico Map shows the administrative divisions and state boundaries with their capital city. Guerrero is a \n",
       "state in Southwest Mexico that is divided into 81 municipalities. Guerrero is the 13th most populous state and the \n",
       "14th largest by land area.\n",
       "\n",
       "[Guerrero Map - Pacific Coast, Mexico - Mapcarta](https://mapcarta.com/Guerrero)\n",
       "Chilpancingo is the capital of Guerrero, Mexico. It is a popular stop on the drive between Mexico City and Acapulco\n",
       "and is known for a large festival the week before Christmas each year. Taxco. Photo: AlejandroLinaresGarcia, CC \n",
       "BY-SA 4.0. Taxco is a beautiful city in Mexico built on a hill in Guerrero.\n",
       "\n",
       "[Chilpancingo, Guerrero](https://drivemexicomagazine.com/home/destinations/chilpancingo-guerrero/)\n",
       "After Mexico gained independence, Chilpancingo's strategic location continued to make it a focal point for military\n",
       "activities during various conflicts. In 1870, it became the capital of Guerrero, which spurred further growth and \n",
       "development. hilpancingo's vibrant city sign stands proudly in front of a historical statue in the heart of the ...\n",
       "\n",
       "[Guerrero - Kids | Britannica Kids | Homework Help](https://kids.britannica.com/kids/article/Guerrero/437461)\n",
       "Guerrero is a state in southwestern Mexico. It was named for Vicente Guerrero, a leader in Mexico's wars for \n",
       "independence. Chilpancingo de los Bravo is the capital city. It is usually called just Chilpancingo.\n",
       "\n",
       "Out: None\n",
       "</pre>\n"
      ],
      "text/plain": [
       "\u001b[1mExecution logs:\u001b[0m\n",
       "## Search Results\n",
       "\n",
       "[Guerrero - Wikipedia](https://en.wikipedia.org/wiki/Guerrero)\n",
       "Guerrero, [a] officially the Free and Sovereign State of Guerrero, [b] is one of the 32 states that compose the 32 \n",
       "Federal Entities of Mexico.It is divided into 81 municipalities.The state has a population of about 3.5 million \n",
       "people. It is located in southwest Mexico and is bordered by the states of Michoacán to the north and west, the \n",
       "State of Mexico and Morelos to the north, Puebla to the ...\n",
       "\n",
       "[Chilpancingo - Wikipedia](https://en.wikipedia.org/wiki/Chilpancingo)\n",
       "Chilpancingo de los Bravo (commonly shortened to Chilpancingo; Spanish pronunciation: [tʃilpanˈsiŋɡo] ⓘ; Nahuatl: \n",
       "Chilpantzinco (pronounced [t͡ʃiɬpanˈt͡siŋko])) is the capital and second-largest city of the Mexican state of \n",
       "Guerrero.In 2010 it had a population of 187,251 people. The municipality has an area of 2,338.4 km 2 (902.9 sq mi) \n",
       "in the south-central part of the state ...\n",
       "\n",
       "[Guerrero | Pacific Coast, Acapulco, Mountains | Britannica](https://www.britannica.com/place/Guerrero)\n",
       "Guerrero, estado (state), southwestern Mexico. It is bounded by the Pacific Ocean to the south and west and by the \n",
       "states of Michoacán to the northwest, México and Morelos to the north, Puebla to the northeast, and Oaxaca to the \n",
       "east. Chilpancingo (Chilpancingo de los Bravo) is the capital city.\n",
       "\n",
       "[Chilpancingo | Population, Meaning, History, & Map | Britannica](https://www.britannica.com/place/Chilpancingo)\n",
       "Chilpancingo, city, capital of Guerrero estado (state), south-central Mexico.Chilpancingo lies in the Sierra Madre \n",
       "del Sur along the Huacapa River, which descends through the inland flanks of the mountains. In pre-Columbian times,\n",
       "the Olmec left remarkable cave paintings in the nearby Juxtlahuaca caverns, which include an extensive tunnel \n",
       "network and a subterranean lake.\n",
       "\n",
       "[30 Facts About Chilpancingo](https://facts.net/world/cities/30-facts-about-chilpancingo/)\n",
       "Political and Administrative Changes. Chilpancingo has seen several shifts in its political and administrative \n",
       "status over the years.. Provisional Capital: In 1853, Chilpancingo was declared the provisional capital of Guerrero\n",
       "due to an epidemic in Tixtla, and regional ecclesiastical organizational changes were made at the same time.. \n",
       "Capital Designation: In 1870, Governor Francisco O. Arce ...\n",
       "\n",
       "[Guerrero - Visiting Mexico](https://visitingmexico.com/guerrero/)\n",
       "Guerrero's capital is Chilpancingo de Los Bravo; however, its largest city is Acapulco. Admitted as a state in \n",
       "1849, Guerrero was named for one of the leaders of the Mexican War of Independence, Vicente Guerrero who also \n",
       "became Mexico's second president.\n",
       "\n",
       "[Guerrero Mexico Map | Mapa de Guerrero - Maps of World](https://www.mapsofworld.com/mexico/states/guerrero.html)\n",
       "Guerrero Mexico Map shows the administrative divisions and state boundaries with their capital city. Guerrero is a \n",
       "state in Southwest Mexico that is divided into 81 municipalities. Guerrero is the 13th most populous state and the \n",
       "14th largest by land area.\n",
       "\n",
       "[Guerrero Map - Pacific Coast, Mexico - Mapcarta](https://mapcarta.com/Guerrero)\n",
       "Chilpancingo is the capital of Guerrero, Mexico. It is a popular stop on the drive between Mexico City and Acapulco\n",
       "and is known for a large festival the week before Christmas each year. Taxco. Photo: AlejandroLinaresGarcia, CC \n",
       "BY-SA 4.0. Taxco is a beautiful city in Mexico built on a hill in Guerrero.\n",
       "\n",
       "[Chilpancingo, Guerrero](https://drivemexicomagazine.com/home/destinations/chilpancingo-guerrero/)\n",
       "After Mexico gained independence, Chilpancingo's strategic location continued to make it a focal point for military\n",
       "activities during various conflicts. In 1870, it became the capital of Guerrero, which spurred further growth and \n",
       "development. hilpancingo's vibrant city sign stands proudly in front of a historical statue in the heart of the ...\n",
       "\n",
       "[Guerrero - Kids | Britannica Kids | Homework Help](https://kids.britannica.com/kids/article/Guerrero/437461)\n",
       "Guerrero is a state in southwestern Mexico. It was named for Vicente Guerrero, a leader in Mexico's wars for \n",
       "independence. Chilpancingo de los Bravo is the capital city. It is usually called just Chilpancingo.\n",
       "\n",
       "Out: None\n"
      ]
     },
     "metadata": {},
     "output_type": "display_data"
    },
    {
     "data": {
      "text/html": [
       "<pre style=\"white-space:pre;overflow-x:auto;line-height:normal;font-family:Menlo,'DejaVu Sans Mono',consolas,'Courier New',monospace\"><span style=\"color: #7f7f7f; text-decoration-color: #7f7f7f\">[Step 0: Duration 3.54 seconds| Input tokens: 2,076 | Output tokens: 77]</span>\n",
       "</pre>\n"
      ],
      "text/plain": [
       "\u001b[2m[Step 0: Duration 3.54 seconds| Input tokens: 2,076 | Output tokens: 77]\u001b[0m\n"
      ]
     },
     "metadata": {},
     "output_type": "display_data"
    },
    {
     "data": {
      "text/html": [
       "<pre style=\"white-space:pre;overflow-x:auto;line-height:normal;font-family:Menlo,'DejaVu Sans Mono',consolas,'Courier New',monospace\"><span style=\"color: #d4b702; text-decoration-color: #d4b702\">━━━━━━━━━━━━━━━━━━━━━━━━━━━━━━━━━━━━━━━━━━━━━━━━━━━━━ </span><span style=\"font-weight: bold\">Step </span><span style=\"color: #008080; text-decoration-color: #008080; font-weight: bold\">2</span><span style=\"color: #d4b702; text-decoration-color: #d4b702\"> ━━━━━━━━━━━━━━━━━━━━━━━━━━━━━━━━━━━━━━━━━━━━━━━━━━━━━━</span>\n",
       "</pre>\n"
      ],
      "text/plain": [
       "\u001b[38;2;212;183;2m━━━━━━━━━━━━━━━━━━━━━━━━━━━━━━━━━━━━━━━━━━━━━━━━━━━━━ \u001b[0m\u001b[1mStep \u001b[0m\u001b[1;36m2\u001b[0m\u001b[38;2;212;183;2m ━━━━━━━━━━━━━━━━━━━━━━━━━━━━━━━━━━━━━━━━━━━━━━━━━━━━━━\u001b[0m\n"
      ]
     },
     "metadata": {},
     "output_type": "display_data"
    },
    {
     "data": {
      "text/html": [
       "<pre style=\"white-space:pre;overflow-x:auto;line-height:normal;font-family:Menlo,'DejaVu Sans Mono',consolas,'Courier New',monospace\"> ─ <span style=\"font-weight: bold\">Executing parsed code:</span> ──────────────────────────────────────────────────────────────────────────────────────── \n",
       "  <span style=\"color: #f8f8f2; text-decoration-color: #f8f8f2; background-color: #272822\">final_answer(</span><span style=\"color: #e6db74; text-decoration-color: #e6db74; background-color: #272822\">\"Chilpancingo\"</span><span style=\"color: #f8f8f2; text-decoration-color: #f8f8f2; background-color: #272822\">)</span><span style=\"background-color: #272822\">                                                                                   </span>  \n",
       " ───────────────────────────────────────────────────────────────────────────────────────────────────────────────── \n",
       "</pre>\n"
      ],
      "text/plain": [
       " ─ \u001b[1mExecuting parsed code:\u001b[0m ──────────────────────────────────────────────────────────────────────────────────────── \n",
       "  \u001b[38;2;248;248;242;48;2;39;40;34mfinal_answer\u001b[0m\u001b[38;2;248;248;242;48;2;39;40;34m(\u001b[0m\u001b[38;2;230;219;116;48;2;39;40;34m\"\u001b[0m\u001b[38;2;230;219;116;48;2;39;40;34mChilpancingo\u001b[0m\u001b[38;2;230;219;116;48;2;39;40;34m\"\u001b[0m\u001b[38;2;248;248;242;48;2;39;40;34m)\u001b[0m\u001b[48;2;39;40;34m                                                                                   \u001b[0m  \n",
       " ───────────────────────────────────────────────────────────────────────────────────────────────────────────────── \n"
      ]
     },
     "metadata": {},
     "output_type": "display_data"
    },
    {
     "data": {
      "text/html": [
       "<pre style=\"white-space:pre;overflow-x:auto;line-height:normal;font-family:Menlo,'DejaVu Sans Mono',consolas,'Courier New',monospace\"><span style=\"color: #d4b702; text-decoration-color: #d4b702; font-weight: bold\">Out - Final answer: Chilpancingo</span>\n",
       "</pre>\n"
      ],
      "text/plain": [
       "\u001b[1;38;2;212;183;2mOut - Final answer: Chilpancingo\u001b[0m\n"
      ]
     },
     "metadata": {},
     "output_type": "display_data"
    },
    {
     "data": {
      "text/html": [
       "<pre style=\"white-space:pre;overflow-x:auto;line-height:normal;font-family:Menlo,'DejaVu Sans Mono',consolas,'Courier New',monospace\"><span style=\"color: #7f7f7f; text-decoration-color: #7f7f7f\">[Step 1: Duration 1.56 seconds| Input tokens: 5,426 | Output tokens: 136]</span>\n",
       "</pre>\n"
      ],
      "text/plain": [
       "\u001b[2m[Step 1: Duration 1.56 seconds| Input tokens: 5,426 | Output tokens: 136]\u001b[0m\n"
      ]
     },
     "metadata": {},
     "output_type": "display_data"
    },
    {
     "data": {
      "text/plain": [
       "'Chilpancingo'"
      ]
     },
     "execution_count": 2,
     "metadata": {},
     "output_type": "execute_result"
    }
   ],
   "source": [
    "# Define the agent and give it the tools to run\n",
    "\n",
    "from smolagents import CodeAgent, DuckDuckGoSearchTool, HfApiModel\n",
    "\n",
    "model = HfApiModel()\n",
    "agent = CodeAgent(tools=[DuckDuckGoSearchTool()], model=model)\n",
    "\n",
    "prompt = \"What is the capital of Guerrero in Mexico?\"\n",
    "agent.run(prompt)"
   ]
  }
 ],
 "metadata": {
  "kernelspec": {
   "display_name": ".venv",
   "language": "python",
   "name": "python3"
  },
  "language_info": {
   "codemirror_mode": {
    "name": "ipython",
    "version": 3
   },
   "file_extension": ".py",
   "mimetype": "text/x-python",
   "name": "python",
   "nbconvert_exporter": "python",
   "pygments_lexer": "ipython3",
   "version": "3.12.4"
  }
 },
 "nbformat": 4,
 "nbformat_minor": 2
}
