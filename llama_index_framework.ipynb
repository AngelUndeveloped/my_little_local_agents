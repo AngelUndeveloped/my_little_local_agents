{
 "cells": [
  {
   "cell_type": "markdown",
   "metadata": {},
   "source": [
    "# Llama Index Framework\n",
    "This notebook is dedicated to learning about the Llama Index Framework for creating Agents"
   ]
  },
  {
   "cell_type": "code",
   "execution_count": 9,
   "metadata": {},
   "outputs": [
    {
     "name": "stdout",
     "output_type": "stream",
     "text": [
      "Note: you may need to restart the kernel to use updated packages.\n"
     ]
    }
   ],
   "source": [
    "# For this project I used python 3.11.9\n",
    "\n",
    "# Since we are using huggingface models, we need to install the huggingface_hub library\n",
    "# %pip install llama-index-llms-huggingface-api llama-index-embeddings-huggingface\n",
    "%pip install -q lmstudio"
   ]
  },
  {
   "cell_type": "code",
   "execution_count": 16,
   "metadata": {},
   "outputs": [
    {
     "name": "stdout",
     "output_type": "stream",
     "text": [
      "Downloaded model: DownloadedEmbeddingModel(model_key='text-embedding-nomic-embed-text-v1.5', display_name='Nomic Embed Text v1.5', architecture='nomic-bert')\n",
      "Downloaded model: DownloadedLlm(model_key='gemma-3-27b-it', display_name='Gemma 3 27B Instruct', architecture='gemma3', vision=True)\n",
      "Downloaded model: DownloadedLlm(model_key='gemma-3-12b-it', display_name='Gemma 3 12B Instruct', architecture='gemma3', vision=True)\n",
      "Downloaded model: DownloadedLlm(model_key='qwq-32b', display_name='QwQ 32B', architecture='qwen2', vision=False)\n",
      "Downloaded model: DownloadedLlm(model_key='deepseek-coder-v2-lite-instruct', display_name='DeepSeek Coder v2 Lite Instruct', architecture='deepseek2', vision=False)\n",
      "Downloaded model: DownloadedLlm(model_key='deepseek-r1-distill-qwen-14b', display_name='DeepSeek R1 Distill Qwen 14B', architecture='qwen2', vision=False)\n",
      "Downloaded model: DownloadedLlm(model_key='deepseek-r1-distill-llama-8b', display_name='DeepSeek R1 Distill Llama 8B', architecture='llama', vision=False)\n",
      "Downloaded model: DownloadedLlm(model_key='deepseek-r1-distill-qwen-7b', display_name='DeepSeek R1 Distill Qwen 7B', architecture='qwen2', vision=False)\n",
      "LLM: DownloadedLlm(model_key='gemma-3-27b-it', display_name='Gemma 3 27B Instruct', architecture='gemma3', vision=True)\n",
      "LLM: DownloadedLlm(model_key='gemma-3-12b-it', display_name='Gemma 3 12B Instruct', architecture='gemma3', vision=True)\n",
      "LLM: DownloadedLlm(model_key='qwq-32b', display_name='QwQ 32B', architecture='qwen2', vision=False)\n",
      "LLM: DownloadedLlm(model_key='deepseek-coder-v2-lite-instruct', display_name='DeepSeek Coder v2 Lite Instruct', architecture='deepseek2', vision=False)\n",
      "LLM: DownloadedLlm(model_key='deepseek-r1-distill-qwen-14b', display_name='DeepSeek R1 Distill Qwen 14B', architecture='qwen2', vision=False)\n",
      "LLM: DownloadedLlm(model_key='deepseek-r1-distill-llama-8b', display_name='DeepSeek R1 Distill Llama 8B', architecture='llama', vision=False)\n",
      "LLM: DownloadedLlm(model_key='deepseek-r1-distill-qwen-7b', display_name='DeepSeek R1 Distill Qwen 7B', architecture='qwen2', vision=False)\n",
      "Embedding: DownloadedEmbeddingModel(model_key='text-embedding-nomic-embed-text-v1.5', display_name='Nomic Embed Text v1.5', architecture='nomic-bert')\n"
     ]
    }
   ],
   "source": [
    "# Test out llm studio sdk\n",
    "import lmstudio as lms\n",
    "\n",
    "#List all model avialable locally\n",
    "lmstudio_downloaded_models = lms.list_downloaded_models()\n",
    "for model in lmstudio_downloaded_models:\n",
    "    print(f\"Downloaded model: {model}\")\n",
    "    \n",
    "# List LLM's only\n",
    "lmstudio_llms_only = lms.list_downloaded_models(\"llm\")\n",
    "for llm in lmstudio_llms_only:\n",
    "    print(f\"LLM: {llm}\")\n",
    "    \n",
    "# List embeddings only\n",
    "lmstudio_embeddings_only = lms.list_downloaded_models(\"embedding\")\n",
    "for embedding in lmstudio_embeddings_only:\n",
    "    print(f\"Embedding: {embedding}\")\n",
    "\n"
   ]
  },
  {
   "cell_type": "code",
   "execution_count": 18,
   "metadata": {},
   "outputs": [
    {
     "name": "stdout",
     "output_type": "stream",
     "text": [
      "{\n",
      "  \"author\": \"F. Scott Fitzgerald\",\n",
      "  \"rating\": 4.3,\n",
      "  \"title\": \"The Great Gatsby\",\n",
      "  \"year\": 1925\n",
      "}\n"
     ]
    }
   ],
   "source": [
    "# Structured output\n",
    "import lmstudio as lms\n",
    "from pydantic import BaseModel\n",
    "\n",
    "class Book(BaseModel):\n",
    "    title: str\n",
    "    author: str\n",
    "    year: int\n",
    "    rating: float\n",
    "\n",
    "lmstudio_llm = lms.llm() # Gets the currrent loaded model\n",
    "\n",
    "prompt = \"Tell me about the book 'The Great Gatsby\"\n",
    "\n",
    "response = lmstudio_llm.respond(\n",
    "    prompt,\n",
    "    response_format=Book\n",
    ")\n",
    "\n",
    "print(response)\n"
   ]
  },
  {
   "cell_type": "code",
   "execution_count": 7,
   "metadata": {},
   "outputs": [
    {
     "ename": "SyntaxError",
     "evalue": "incomplete input (4051126622.py, line 5)",
     "output_type": "error",
     "traceback": [
      "\u001b[1;36m  Cell \u001b[1;32mIn[7], line 5\u001b[1;36m\u001b[0m\n\u001b[1;33m    \u001b[0m\n\u001b[1;37m    ^\u001b[0m\n\u001b[1;31mSyntaxError\u001b[0m\u001b[1;31m:\u001b[0m incomplete input\n"
     ]
    }
   ],
   "source": [
    "from llama_index.llms.huggingface_api import HuggingFaceInferenceAPI\n",
    "\n",
    "model_name = \"Qwen/Qwen2.5-Coder-32B-Instruct\" # This is if you want to use a model from huggingface\n",
    "model_name = \"\"\n",
    "\n",
    "llm = HuggingFaceInferenceAPI(\n",
    "    model_name= \n",
    "\n"
   ]
  }
 ],
 "metadata": {
  "kernelspec": {
   "display_name": ".venv",
   "language": "python",
   "name": "python3"
  },
  "language_info": {
   "codemirror_mode": {
    "name": "ipython",
    "version": 3
   },
   "file_extension": ".py",
   "mimetype": "text/x-python",
   "name": "python",
   "nbconvert_exporter": "python",
   "pygments_lexer": "ipython3",
   "version": "3.11.9"
  }
 },
 "nbformat": 4,
 "nbformat_minor": 2
}
